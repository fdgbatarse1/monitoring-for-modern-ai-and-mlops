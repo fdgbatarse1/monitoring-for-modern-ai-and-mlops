{
 "cells": [
  {
   "attachments": {},
   "cell_type": "markdown",
   "metadata": {
    "id": "QgumzOZ5wgec",
    "pycharm": {
     "name": "#%% md\n"
    }
   },
   "source": [
    "# Production model training with K-Folds cross-validation\n"
   ]
  },
  {
   "attachments": {},
   "cell_type": "markdown",
   "metadata": {
    "id": "6eM1BMvDwgee",
    "pycharm": {
     "name": "#%% md\n"
    }
   },
   "source": [
    "This notebook shows how you can use the Evidently to:\n",
    "* calculate prerformance and data drift for the model, performed as batch checks \n",
    "* log models quality & data drift using MLflow Tracking\n",
    "* explore the result \n",
    "\n",
    "More examples are avaliable in the github: https://github.com/evidentlyai/evidently/tree/main/examples\n",
    "\n",
    "Evidently docs: https://docs.evidentlyai.com/\n",
    "\n",
    "Join our Discord: https://discord.com/invite/xZjKRaNp8b"
   ]
  },
  {
   "cell_type": "code",
   "execution_count": 120,
   "metadata": {
    "id": "rByuPhg7wgei",
    "pycharm": {
     "name": "#%%\n"
    }
   },
   "outputs": [],
   "source": [
    "import datetime\n",
    "import joblib\n",
    "import pandas as pd\n",
    "import numpy as np\n",
    "import requests\n",
    "import zipfile\n",
    "import io\n",
    "import json\n",
    "\n",
    "from pathlib import Path\n",
    "from sklearn import datasets, ensemble, model_selection\n",
    "\n",
    "from evidently.metrics import RegressionQualityMetric, RegressionErrorPlot, RegressionErrorDistribution\n",
    "from evidently.metric_preset import DataDriftPreset, RegressionPreset\n",
    "from evidently.pipeline.column_mapping import ColumnMapping\n",
    "from evidently.report import Report"
   ]
  },
  {
   "cell_type": "code",
   "execution_count": 89,
   "metadata": {
    "id": "HiiUl3p8wgej",
    "pycharm": {
     "name": "#%%\n"
    }
   },
   "outputs": [],
   "source": [
    "import warnings\n",
    "warnings.filterwarnings('ignore')\n",
    "warnings.simplefilter('ignore')"
   ]
  },
  {
   "attachments": {},
   "cell_type": "markdown",
   "metadata": {
    "id": "zw5Tap_Xwgej",
    "pycharm": {
     "name": "#%% md\n"
    }
   },
   "source": [
    "## Bicycle Demand Data"
   ]
  },
  {
   "attachments": {},
   "cell_type": "markdown",
   "metadata": {
    "id": "VqGH1Mr6wgej",
    "pycharm": {
     "name": "#%% md\n"
    }
   },
   "source": [
    "More information about the dataset can be found in UCI machine learning repository: https://archive.ics.uci.edu/ml/datasets/bike+sharing+dataset\n",
    "\n",
    "Acknowledgement: Fanaee-T, Hadi, and Gama, Joao, 'Event labeling combining ensemble detectors and background knowledge', Progress in Artificial Intelligence (2013): pp. 1-15, Springer Berlin Heidelberg"
   ]
  },
  {
   "cell_type": "code",
   "execution_count": 90,
   "metadata": {
    "id": "36Gk-YMhwgek",
    "pycharm": {
     "name": "#%%\n"
    }
   },
   "outputs": [],
   "source": [
    "# Load data saved in the previous step (in train_model.ipynb)\n",
    "\n",
    "raw_data = pd.read_csv('../data/raw_data.csv', index_col=0)"
   ]
  },
  {
   "cell_type": "code",
   "execution_count": 91,
   "metadata": {
    "id": "dKX2YV19wgek",
    "pycharm": {
     "name": "#%%\n"
    }
   },
   "outputs": [],
   "source": [
    "# content = requests.get(\"https://archive.ics.uci.edu/static/public/275/bike+sharing+dataset.zip\").content\n",
    "# with zipfile.ZipFile(io.BytesIO(content)) as arc:\n",
    "#     raw_data = pd.read_csv(arc.open(\"hour.csv\"), header=0, sep=',', parse_dates=['dteday']) \n",
    "    \n",
    "# raw_data.index = raw_data.apply(lambda row: datetime.datetime.combine(row.dteday.date(), datetime.time(row.hr)), axis=1)"
   ]
  },
  {
   "cell_type": "code",
   "execution_count": 92,
   "metadata": {
    "id": "N6oQxQKNwgek",
    "pycharm": {
     "name": "#%%\n"
    }
   },
   "outputs": [
    {
     "data": {
      "text/html": [
       "<div>\n",
       "<style scoped>\n",
       "    .dataframe tbody tr th:only-of-type {\n",
       "        vertical-align: middle;\n",
       "    }\n",
       "\n",
       "    .dataframe tbody tr th {\n",
       "        vertical-align: top;\n",
       "    }\n",
       "\n",
       "    .dataframe thead th {\n",
       "        text-align: right;\n",
       "    }\n",
       "</style>\n",
       "<table border=\"1\" class=\"dataframe\">\n",
       "  <thead>\n",
       "    <tr style=\"text-align: right;\">\n",
       "      <th></th>\n",
       "      <th>instant</th>\n",
       "      <th>dteday</th>\n",
       "      <th>season</th>\n",
       "      <th>yr</th>\n",
       "      <th>mnth</th>\n",
       "      <th>hr</th>\n",
       "      <th>holiday</th>\n",
       "      <th>weekday</th>\n",
       "      <th>workingday</th>\n",
       "      <th>weathersit</th>\n",
       "      <th>temp</th>\n",
       "      <th>atemp</th>\n",
       "      <th>hum</th>\n",
       "      <th>windspeed</th>\n",
       "      <th>casual</th>\n",
       "      <th>registered</th>\n",
       "      <th>cnt</th>\n",
       "    </tr>\n",
       "  </thead>\n",
       "  <tbody>\n",
       "    <tr>\n",
       "      <th>2011-01-01 00:00:00</th>\n",
       "      <td>1</td>\n",
       "      <td>2011-01-01</td>\n",
       "      <td>1</td>\n",
       "      <td>0</td>\n",
       "      <td>1</td>\n",
       "      <td>0</td>\n",
       "      <td>0</td>\n",
       "      <td>6</td>\n",
       "      <td>0</td>\n",
       "      <td>1</td>\n",
       "      <td>0.24</td>\n",
       "      <td>0.2879</td>\n",
       "      <td>0.81</td>\n",
       "      <td>0.0</td>\n",
       "      <td>3</td>\n",
       "      <td>13</td>\n",
       "      <td>16</td>\n",
       "    </tr>\n",
       "    <tr>\n",
       "      <th>2011-01-01 01:00:00</th>\n",
       "      <td>2</td>\n",
       "      <td>2011-01-01</td>\n",
       "      <td>1</td>\n",
       "      <td>0</td>\n",
       "      <td>1</td>\n",
       "      <td>1</td>\n",
       "      <td>0</td>\n",
       "      <td>6</td>\n",
       "      <td>0</td>\n",
       "      <td>1</td>\n",
       "      <td>0.22</td>\n",
       "      <td>0.2727</td>\n",
       "      <td>0.80</td>\n",
       "      <td>0.0</td>\n",
       "      <td>8</td>\n",
       "      <td>32</td>\n",
       "      <td>40</td>\n",
       "    </tr>\n",
       "    <tr>\n",
       "      <th>2011-01-01 02:00:00</th>\n",
       "      <td>3</td>\n",
       "      <td>2011-01-01</td>\n",
       "      <td>1</td>\n",
       "      <td>0</td>\n",
       "      <td>1</td>\n",
       "      <td>2</td>\n",
       "      <td>0</td>\n",
       "      <td>6</td>\n",
       "      <td>0</td>\n",
       "      <td>1</td>\n",
       "      <td>0.22</td>\n",
       "      <td>0.2727</td>\n",
       "      <td>0.80</td>\n",
       "      <td>0.0</td>\n",
       "      <td>5</td>\n",
       "      <td>27</td>\n",
       "      <td>32</td>\n",
       "    </tr>\n",
       "    <tr>\n",
       "      <th>2011-01-01 03:00:00</th>\n",
       "      <td>4</td>\n",
       "      <td>2011-01-01</td>\n",
       "      <td>1</td>\n",
       "      <td>0</td>\n",
       "      <td>1</td>\n",
       "      <td>3</td>\n",
       "      <td>0</td>\n",
       "      <td>6</td>\n",
       "      <td>0</td>\n",
       "      <td>1</td>\n",
       "      <td>0.24</td>\n",
       "      <td>0.2879</td>\n",
       "      <td>0.75</td>\n",
       "      <td>0.0</td>\n",
       "      <td>3</td>\n",
       "      <td>10</td>\n",
       "      <td>13</td>\n",
       "    </tr>\n",
       "    <tr>\n",
       "      <th>2011-01-01 04:00:00</th>\n",
       "      <td>5</td>\n",
       "      <td>2011-01-01</td>\n",
       "      <td>1</td>\n",
       "      <td>0</td>\n",
       "      <td>1</td>\n",
       "      <td>4</td>\n",
       "      <td>0</td>\n",
       "      <td>6</td>\n",
       "      <td>0</td>\n",
       "      <td>1</td>\n",
       "      <td>0.24</td>\n",
       "      <td>0.2879</td>\n",
       "      <td>0.75</td>\n",
       "      <td>0.0</td>\n",
       "      <td>0</td>\n",
       "      <td>1</td>\n",
       "      <td>1</td>\n",
       "    </tr>\n",
       "  </tbody>\n",
       "</table>\n",
       "</div>"
      ],
      "text/plain": [
       "                     instant      dteday  season  yr  mnth  hr  holiday  \\\n",
       "2011-01-01 00:00:00        1  2011-01-01       1   0     1   0        0   \n",
       "2011-01-01 01:00:00        2  2011-01-01       1   0     1   1        0   \n",
       "2011-01-01 02:00:00        3  2011-01-01       1   0     1   2        0   \n",
       "2011-01-01 03:00:00        4  2011-01-01       1   0     1   3        0   \n",
       "2011-01-01 04:00:00        5  2011-01-01       1   0     1   4        0   \n",
       "\n",
       "                     weekday  workingday  weathersit  temp   atemp   hum  \\\n",
       "2011-01-01 00:00:00        6           0           1  0.24  0.2879  0.81   \n",
       "2011-01-01 01:00:00        6           0           1  0.22  0.2727  0.80   \n",
       "2011-01-01 02:00:00        6           0           1  0.22  0.2727  0.80   \n",
       "2011-01-01 03:00:00        6           0           1  0.24  0.2879  0.75   \n",
       "2011-01-01 04:00:00        6           0           1  0.24  0.2879  0.75   \n",
       "\n",
       "                     windspeed  casual  registered  cnt  \n",
       "2011-01-01 00:00:00        0.0       3          13   16  \n",
       "2011-01-01 01:00:00        0.0       8          32   40  \n",
       "2011-01-01 02:00:00        0.0       5          27   32  \n",
       "2011-01-01 03:00:00        0.0       3          10   13  \n",
       "2011-01-01 04:00:00        0.0       0           1    1  "
      ]
     },
     "execution_count": 92,
     "metadata": {},
     "output_type": "execute_result"
    }
   ],
   "source": [
    "raw_data.head()"
   ]
  },
  {
   "attachments": {},
   "cell_type": "markdown",
   "metadata": {},
   "source": [
    "# K-Folds split setup"
   ]
  },
  {
   "attachments": {},
   "cell_type": "markdown",
   "metadata": {
    "id": "dhZOCJZ1wgel",
    "pycharm": {
     "name": "#%% md\n"
    }
   },
   "source": [
    "## Model training "
   ]
  },
  {
   "cell_type": "code",
   "execution_count": 93,
   "metadata": {
    "id": "_i8edS6Ewgem",
    "pycharm": {
     "name": "#%%\n"
    }
   },
   "outputs": [],
   "source": [
    "target = 'cnt'\n",
    "prediction = 'prediction'\n",
    "numerical_features = ['temp', 'atemp', 'hum', 'windspeed', 'mnth', 'hr', 'weekday']\n",
    "categorical_features = ['season', 'holiday', 'workingday', ]#'weathersit']"
   ]
  },
  {
   "attachments": {},
   "cell_type": "markdown",
   "metadata": {
    "id": "q5lW24Xzwgex",
    "pycharm": {
     "name": "#%% md\n"
    }
   },
   "source": [
    "# Model Quality Evaluation (Prod)"
   ]
  },
  {
   "cell_type": "code",
   "execution_count": 94,
   "metadata": {
    "id": "I_IyYlM0wgey",
    "pycharm": {
     "name": "#%%\n"
    }
   },
   "outputs": [],
   "source": [
    "import mlflow\n",
    "#import mlflow.sklearn\n",
    "from mlflow.tracking import MlflowClient"
   ]
  },
  {
   "cell_type": "code",
   "execution_count": 45,
   "metadata": {},
   "outputs": [
    {
     "data": {
      "text/plain": [
       "7"
      ]
     },
     "execution_count": 45,
     "metadata": {},
     "output_type": "execute_result"
    }
   ],
   "source": [
    "# from datetime import datetime\n",
    "\n",
    "# datetime.strptime('2011-03-06 23:00:00', '%Y-%m-%d %H:%M:%S').isoweekday()"
   ]
  },
  {
   "cell_type": "code",
   "execution_count": 95,
   "metadata": {
    "id": "L6PKtAGEwgey",
    "pycharm": {
     "name": "#%%\n"
    }
   },
   "outputs": [],
   "source": [
    "start_date_0 = '2011-01-02 00:00:00'\n",
    "end_date_0 = '2011-01-30 23:00:00'\n",
    "\n",
    "experiment_batches = [\n",
    "    \n",
    "    ('2011-01-31 00:00:00','2011-02-06 23:00:00'),\n",
    "    ('2011-02-07 23:00:00','2011-02-13 23:00:00'),\n",
    "    ('2011-02-14 23:00:00','2011-02-20 23:00:00'),\n",
    "    ('2011-02-21 00:00:00','2011-02-27 23:00:00'),\n",
    "    ('2011-02-28 00:00:00','2011-03-06 23:00:00'),  \n",
    "]"
   ]
  },
  {
   "cell_type": "code",
   "execution_count": 96,
   "metadata": {},
   "outputs": [
    {
     "name": "stdout",
     "output_type": "stream",
     "text": [
      "(640, 17)\n"
     ]
    }
   ],
   "source": [
    "reference = raw_data.loc[start_date_0:end_date_0]\n",
    "print(reference.shape)\n",
    "\n"
   ]
  },
  {
   "cell_type": "code",
   "execution_count": 97,
   "metadata": {},
   "outputs": [],
   "source": [
    "column_mapping = ColumnMapping()\n",
    "\n",
    "column_mapping.target = target\n",
    "column_mapping.prediction = prediction\n",
    "column_mapping.numerical_features = numerical_features\n",
    "column_mapping.categorical_features = categorical_features"
   ]
  },
  {
   "cell_type": "code",
   "execution_count": 98,
   "metadata": {
    "id": "yc0HhabLxYVj"
   },
   "outputs": [],
   "source": [
    "# # X_train, X_test, y_train, y_test = model_selection.train_test_split(\n",
    "# #     reference[numerical_features + categorical_features],\n",
    "# #     reference[target],\n",
    "# #     test_size=0.3\n",
    "# # )\n",
    "\n",
    "# # preds_train = regressor.predict(X_train)\n",
    "# # preds_test = regressor.predict(X_test)\n",
    "\n",
    "# X_train['target'] = y_train\n",
    "# X_train['prediction'] = preds_train\n",
    "\n",
    "# X_test['target'] = y_test\n",
    "# X_test['prediction'] = preds_test"
   ]
  },
  {
   "cell_type": "code",
   "execution_count": 121,
   "metadata": {},
   "outputs": [],
   "source": [
    "REPORTS_DIR = '../reports'\n",
    "\n",
    "model_path = Path('../models/model_get_started.joblib')\n",
    "report_path = f\"{REPORTS_DIR}/get_started_regression_performance_report.html\"\n"
   ]
  },
  {
   "cell_type": "code",
   "execution_count": 122,
   "metadata": {
    "id": "bTHU8eAqwgez",
    "pycharm": {
     "name": "#%%\n"
    }
   },
   "outputs": [
    {
     "name": "stdout",
     "output_type": "stream",
     "text": [
      "Client tracking uri: http://localhost:5000\n",
      "0 2011-01-31 00:00:00 2011-02-06 23:00:00\n",
      "train_end_data: 2011-01-30 23:00:00\n",
      "(640, 10) (640,)\n",
      "(165, 10) (165,)\n",
      "Experiment id: 155405333588197577\n",
      "Run id: 20085be7ec974cf4aa226269002d01a4\n",
      "Run name: amazing-ox-272\n",
      "MLFlow tracking uri: http://localhost:5000\n",
      "MLFlow artifact uri: mlflow-artifacts:/155405333588197577/20085be7ec974cf4aa226269002d01a4/artifacts\n",
      "1 2011-02-07 23:00:00 2011-02-13 23:00:00\n",
      "train_end_data: 2011-02-06 23:00:00\n",
      "(805, 10) (805,)\n",
      "(140, 10) (140,)\n",
      "Experiment id: 155405333588197577\n",
      "Run id: 24e4ddbe585c426dbae96f2129ea04cf\n",
      "Run name: wise-snail-611\n",
      "MLFlow tracking uri: http://localhost:5000\n",
      "MLFlow artifact uri: mlflow-artifacts:/155405333588197577/24e4ddbe585c426dbae96f2129ea04cf/artifacts\n",
      "2 2011-02-14 23:00:00 2011-02-20 23:00:00\n",
      "train_end_data: 2011-02-13 23:00:00\n",
      "(968, 10) (968,)\n",
      "(142, 10) (142,)\n",
      "Experiment id: 155405333588197577\n",
      "Run id: 854eeb0390ea46f19ef375928685dab5\n",
      "Run name: big-ox-64\n",
      "MLFlow tracking uri: http://localhost:5000\n",
      "MLFlow artifact uri: mlflow-artifacts:/155405333588197577/854eeb0390ea46f19ef375928685dab5/artifacts\n",
      "3 2011-02-21 00:00:00 2011-02-27 23:00:00\n",
      "train_end_data: 2011-02-20 23:00:00\n",
      "(1133, 10) (1133,)\n",
      "(158, 10) (158,)\n",
      "Experiment id: 155405333588197577\n",
      "Run id: 13e3fc27c2814fc8b5bea5032e99d4c5\n",
      "Run name: rogue-turtle-814\n",
      "MLFlow tracking uri: http://localhost:5000\n",
      "MLFlow artifact uri: mlflow-artifacts:/155405333588197577/13e3fc27c2814fc8b5bea5032e99d4c5/artifacts\n",
      "4 2011-02-28 00:00:00 2011-03-06 23:00:00\n",
      "train_end_data: 2011-02-27 23:00:00\n",
      "(1291, 10) (1291,)\n",
      "(165, 10) (165,)\n",
      "Experiment id: 155405333588197577\n",
      "Run id: faf0bb9fd48d44589cbd7bfa89259506\n",
      "Run name: bold-kite-598\n",
      "MLFlow tracking uri: http://localhost:5000\n",
      "MLFlow artifact uri: mlflow-artifacts:/155405333588197577/faf0bb9fd48d44589cbd7bfa89259506/artifacts\n"
     ]
    }
   ],
   "source": [
    "from config import MLFLOW_TRACKING_URI\n",
    "\n",
    "\n",
    "mlflow.set_tracking_uri(MLFLOW_TRACKING_URI)\n",
    "client = MlflowClient()\n",
    "print(f\"Client tracking uri: {client.tracking_uri}\")\n",
    "\n",
    "#set experiment\n",
    "mlflow.set_experiment('Train Model - K-Fold')\n",
    "\n",
    "ref_end_data = end_date_0\n",
    "\n",
    "#start new run\n",
    "for k, date in enumerate(experiment_batches):\n",
    "    \n",
    "    print(k, date[0],  date[1])\n",
    "    \n",
    "        \n",
    "    print(f\"train_end_data: {ref_end_data}\") \n",
    "    X_train = raw_data.loc[start_date_0:ref_end_data, numerical_features + categorical_features]\n",
    "    y_train = raw_data.loc[start_date_0:ref_end_data, target]\n",
    "    print(X_train.shape, y_train.shape)\n",
    "    \n",
    "    current = raw_data.loc[date[0]:date[1]]\n",
    "    X_test = current.loc[:, numerical_features + categorical_features]\n",
    "    y_test = current[target]\n",
    "    print(X_test.shape, y_test.shape)\n",
    "    \n",
    "    # Update reference end date\n",
    "    ref_end_data = date[1]\n",
    "    \n",
    "    regressor = ensemble.RandomForestRegressor(random_state = 0, n_estimators = 50)\n",
    "    regressor.fit(X_train, y_train)\n",
    "    \n",
    "    ref_prediction = regressor.predict(reference[numerical_features + categorical_features])\n",
    "    reference['prediction'] = ref_prediction\n",
    "    \n",
    "    prediction = regressor.predict(current[numerical_features + categorical_features])\n",
    "    current['prediction'] = prediction\n",
    "    \n",
    "    \n",
    "    # Get metrics\n",
    "    regression_performance_report = Report(metrics=[\n",
    "        RegressionQualityMetric(),\n",
    "    ])\n",
    "    regression_performance_report.run(\n",
    "        reference_data=reference, \n",
    "        current_data=current,\n",
    "        column_mapping=column_mapping)\n",
    "    # logged_json = json.loads(the_report.json())\n",
    "    \n",
    "    train_report_metrics = regression_performance_report.as_dict()\n",
    "    me = train_report_metrics['metrics'][0]['result']['current']['mean_error']\n",
    "    mae = train_report_metrics['metrics'][0]['result']['current'][\"mean_abs_error\"]\n",
    "    \n",
    "    # Save model\n",
    "    joblib.dump(regressor, model_path)\n",
    "    regression_performance_report.save_html(report_path)\n",
    "\n",
    "    \n",
    "    with mlflow.start_run() as run: #inside brackets run_name='test'\n",
    "        \n",
    "        # Show newly created run metadata info\n",
    "        print(\"Experiment id: {}\".format(run.info.experiment_id))\n",
    "        print(\"Run id: {}\".format(run.info.run_id))\n",
    "        print(\"Run name: {}\".format(run.info.run_name))\n",
    "        print('MLFlow tracking uri:', mlflow.get_tracking_uri())\n",
    "        print('MLFlow artifact uri:', mlflow.get_artifact_uri())\n",
    "        \n",
    "        # Log parameters\n",
    "        mlflow.log_param(\"begin\", date[0])\n",
    "        mlflow.log_param(\"end\", date[1])\n",
    "        \n",
    "        # Log metrics\n",
    "        mlflow.log_metric('me', round(me, 3))\n",
    "        mlflow.log_metric('mae', round(mae, 3))\n",
    "        \n",
    "        # Log model \n",
    "        mlflow.log_artifact(model_path)\n",
    "        \n",
    "        # Log the regression_performance_report as an artifact\n",
    "        mlflow.log_artifact(report_path)"
   ]
  },
  {
   "attachments": {},
   "cell_type": "markdown",
   "metadata": {},
   "source": [
    "## Nested Runs "
   ]
  },
  {
   "cell_type": "code",
   "execution_count": 133,
   "metadata": {},
   "outputs": [
    {
     "name": "stdout",
     "output_type": "stream",
     "text": [
      "Client tracking uri: http://localhost:5000\n",
      "0 2011-01-31 00:00:00 2011-02-06 23:00:00\n",
      "train_end_data: 2011-01-30 23:00:00\n",
      "(640, 10) (640,)\n",
      "(165, 10) (165,)\n",
      "Experiment id: 155405333588197577\n",
      "Run id: 176ad60894914599aa7b15711370d711\n",
      "Run name: receptive-mare-831\n",
      "MLFlow tracking uri: http://localhost:5000\n",
      "MLFlow artifact uri: mlflow-artifacts:/155405333588197577/66729c5de51048debb93ac531c1b49ec/artifacts\n",
      "1 2011-02-07 23:00:00 2011-02-13 23:00:00\n",
      "train_end_data: 2011-02-06 23:00:00\n",
      "(805, 10) (805,)\n",
      "(140, 10) (140,)\n",
      "Experiment id: 155405333588197577\n",
      "Run id: 176ad60894914599aa7b15711370d711\n",
      "Run name: receptive-mare-831\n",
      "MLFlow tracking uri: http://localhost:5000\n",
      "MLFlow artifact uri: mlflow-artifacts:/155405333588197577/24701cfccc7444ca9ce831d16b378d7a/artifacts\n",
      "2 2011-02-14 23:00:00 2011-02-20 23:00:00\n",
      "train_end_data: 2011-02-13 23:00:00\n",
      "(968, 10) (968,)\n",
      "(142, 10) (142,)\n",
      "Experiment id: 155405333588197577\n",
      "Run id: 176ad60894914599aa7b15711370d711\n",
      "Run name: receptive-mare-831\n",
      "MLFlow tracking uri: http://localhost:5000\n",
      "MLFlow artifact uri: mlflow-artifacts:/155405333588197577/6e1588399ebc4631a2a253fcd71e216e/artifacts\n",
      "3 2011-02-21 00:00:00 2011-02-27 23:00:00\n",
      "train_end_data: 2011-02-20 23:00:00\n",
      "(1133, 10) (1133,)\n",
      "(158, 10) (158,)\n",
      "Experiment id: 155405333588197577\n",
      "Run id: 176ad60894914599aa7b15711370d711\n",
      "Run name: receptive-mare-831\n",
      "MLFlow tracking uri: http://localhost:5000\n",
      "MLFlow artifact uri: mlflow-artifacts:/155405333588197577/c1c707dcba6749d5a6651e10736d4ae5/artifacts\n",
      "4 2011-02-28 00:00:00 2011-03-06 23:00:00\n",
      "train_end_data: 2011-02-27 23:00:00\n",
      "(1291, 10) (1291,)\n",
      "(165, 10) (165,)\n",
      "Experiment id: 155405333588197577\n",
      "Run id: 176ad60894914599aa7b15711370d711\n",
      "Run name: receptive-mare-831\n",
      "MLFlow tracking uri: http://localhost:5000\n",
      "MLFlow artifact uri: mlflow-artifacts:/155405333588197577/364e1b0b17104701ae22d952ff24502d/artifacts\n"
     ]
    }
   ],
   "source": [
    "from config import MLFLOW_TRACKING_URI\n",
    "\n",
    "\n",
    "mlflow.set_tracking_uri(MLFLOW_TRACKING_URI)\n",
    "client = MlflowClient()\n",
    "mlflow.set_experiment('Train Model - K-Fold')\n",
    "print(f\"Client tracking uri: {client.tracking_uri}\")\n",
    "\n",
    "ref_end_data = end_date_0\n",
    "\n",
    "# Start a new Run (Parent Run)\n",
    "with mlflow.start_run() as run: \n",
    "    \n",
    "    \n",
    "    metrics = {}\n",
    "\n",
    "    #start new run\n",
    "    for k, date in enumerate(experiment_batches):\n",
    "        \n",
    "        print(k, date[0],  date[1])\n",
    "            \n",
    "        print(f\"train_end_data: {ref_end_data}\") \n",
    "        X_train = raw_data.loc[start_date_0:ref_end_data, numerical_features + categorical_features]\n",
    "        y_train = raw_data.loc[start_date_0:ref_end_data, target]\n",
    "        print(X_train.shape, y_train.shape)\n",
    "        \n",
    "        current = raw_data.loc[date[0]:date[1]]\n",
    "        X_test = current.loc[:, numerical_features + categorical_features]\n",
    "        y_test = current[target]\n",
    "        print(X_test.shape, y_test.shape)\n",
    "        \n",
    "        # Update reference end date\n",
    "        ref_end_data = date[1]\n",
    "        \n",
    "        regressor = ensemble.RandomForestRegressor(random_state = 0, n_estimators = 50)\n",
    "        regressor.fit(X_train, y_train)\n",
    "        \n",
    "        ref_prediction = regressor.predict(reference[numerical_features + categorical_features])\n",
    "        reference['prediction'] = ref_prediction\n",
    "        \n",
    "        prediction = regressor.predict(current[numerical_features + categorical_features])\n",
    "        current['prediction'] = prediction\n",
    "        \n",
    "        \n",
    "        # Get metrics\n",
    "        regression_performance_report = Report(metrics=[\n",
    "            RegressionQualityMetric(),\n",
    "        ])\n",
    "        regression_performance_report.run(\n",
    "            reference_data=reference, \n",
    "            current_data=current,\n",
    "            column_mapping=column_mapping)\n",
    "        # logged_json = json.loads(the_report.json())\n",
    "        \n",
    "        train_report_metrics = regression_performance_report.as_dict()\n",
    "        me = train_report_metrics['metrics'][0]['result']['current']['mean_error']\n",
    "        mae = train_report_metrics['metrics'][0]['result']['current'][\"mean_abs_error\"]\n",
    "        metrics.update({date[1]: {'me': me, 'mae': mae}})\n",
    "        \n",
    "        # Save model\n",
    "        joblib.dump(regressor, model_path)\n",
    "        regression_performance_report.save_html(report_path)\n",
    "        \n",
    "        # Run a Childe Run for each Fold \n",
    "        with mlflow.start_run(run_name=date[1], \n",
    "                              nested=True,\n",
    "                            #   experiment_id=experiment_id\n",
    "                              ) as child_run:\n",
    "            \n",
    "            # Show newly created run metadata info\n",
    "            print(\"Experiment id: {}\".format(run.info.experiment_id))\n",
    "            print(\"Run id: {}\".format(run.info.run_id))\n",
    "            print(\"Run name: {}\".format(run.info.run_name))\n",
    "            print('MLFlow tracking uri:', mlflow.get_tracking_uri())\n",
    "            print('MLFlow artifact uri:', mlflow.get_artifact_uri())\n",
    "            \n",
    "            # Log parameters\n",
    "            mlflow.log_param(\"begin\", date[0])\n",
    "            mlflow.log_param(\"end\", date[1])\n",
    "            \n",
    "            # Log metrics\n",
    "            mlflow.log_metric('me', round(me, 3))\n",
    "            mlflow.log_metric('mae', round(mae, 3))\n",
    "            \n",
    "            # Log the regression_performance_report as an artifact\n",
    "            mlflow.log_artifact(report_path)\n",
    "            \n",
    "        # Log the last batch model as the parent Run model\n",
    "        mlflow.log_artifact(model_path)\n",
    "        \n",
    "        # Log metrics\n",
    "        average_run_merics = pd.DataFrame.from_dict(metrics).T.mean().round(3).to_dict()\n",
    "        mlflow.log_metrics(average_run_merics )"
   ]
  },
  {
   "cell_type": "code",
   "execution_count": 127,
   "metadata": {},
   "outputs": [
    {
     "data": {
      "text/plain": [
       "{'2011-02-06 23:00:00': {'me': -7.015272727272727, 'mae': 13.564848484848484},\n",
       " '2011-02-13 23:00:00': {'me': -4.623285714285714, 'mae': 10.085571428571429},\n",
       " '2011-02-20 23:00:00': {'me': -15.03380281690141, 'mae': 23.230140845070423},\n",
       " '2011-02-27 23:00:00': {'me': 0.8769620253164568, 'mae': 22.516455696202527},\n",
       " '2011-03-06 23:00:00': {'me': 4.758545454545455, 'mae': 19.815272727272724}}"
      ]
     },
     "execution_count": 127,
     "metadata": {},
     "output_type": "execute_result"
    }
   ],
   "source": [
    "metrics"
   ]
  },
  {
   "cell_type": "code",
   "execution_count": 132,
   "metadata": {},
   "outputs": [
    {
     "data": {
      "text/plain": [
       "{'me': -4.207, 'mae': 17.842}"
      ]
     },
     "execution_count": 132,
     "metadata": {},
     "output_type": "execute_result"
    }
   ],
   "source": [
    "pd.DataFrame.from_dict(metrics).T.mean().round(3).to_dict()"
   ]
  },
  {
   "cell_type": "code",
   "execution_count": null,
   "metadata": {},
   "outputs": [],
   "source": []
  }
 ],
 "metadata": {
  "colab": {
   "provenance": []
  },
  "kernelspec": {
   "display_name": "Python 3 (ipykernel)",
   "language": "python",
   "name": "python3"
  },
  "language_info": {
   "codemirror_mode": {
    "name": "ipython",
    "version": 3
   },
   "file_extension": ".py",
   "mimetype": "text/x-python",
   "name": "python",
   "nbconvert_exporter": "python",
   "pygments_lexer": "ipython3",
   "version": "3.10.4"
  },
  "toc": {
   "base_numbering": 1,
   "nav_menu": {},
   "number_sections": true,
   "sideBar": true,
   "skip_h1_title": false,
   "title_cell": "Table of Contents",
   "title_sidebar": "Contents",
   "toc_cell": false,
   "toc_position": {},
   "toc_section_display": true,
   "toc_window_display": false
  }
 },
 "nbformat": 4,
 "nbformat_minor": 0
}
